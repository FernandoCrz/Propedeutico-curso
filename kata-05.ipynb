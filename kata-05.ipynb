{
 "cells": [
  {
   "cell_type": "code",
   "execution_count": 5,
   "metadata": {},
   "outputs": [
    {
     "name": "stdout",
     "output_type": "stream",
     "text": [
      "628949330\n",
      "390577533.93\n"
     ]
    }
   ],
   "source": [
    "# Crear variables para almacenar las dos distancias\n",
    "# ¡Asegúrate de quitar las comas!\n",
    "first_planet = 149597870\n",
    "second_planet = 778547200\n",
    "# Calcular la distancia entre planetas\n",
    "distance_km = second_planet - first_planet\n",
    "print(distance_km)\n",
    "distance_mi = distance_km * 0.621\n",
    "print(distance_mi)"
   ]
  },
  {
   "cell_type": "code",
   "execution_count": 3,
   "metadata": {},
   "outputs": [
    {
     "ename": "ValueError",
     "evalue": "invalid literal for int() with base 10: ''",
     "output_type": "error",
     "traceback": [
      "\u001b[1;31m---------------------------------------------------------------------------\u001b[0m",
      "\u001b[1;31mValueError\u001b[0m                                Traceback (most recent call last)",
      "\u001b[1;32mc:\\Users\\diana\\.vscode\\kata-05.ipynb Cell 2'\u001b[0m in \u001b[0;36m<module>\u001b[1;34m\u001b[0m\n\u001b[0;32m      <a href='vscode-notebook-cell:/c%3A/Users/diana/.vscode/kata-05.ipynb#ch0000002?line=0'>1</a>\u001b[0m first_planet \u001b[39m=\u001b[39m \u001b[39minput\u001b[39m (\u001b[39m'\u001b[39m\u001b[39m149597870\u001b[39m\u001b[39m'\u001b[39m)\n\u001b[0;32m      <a href='vscode-notebook-cell:/c%3A/Users/diana/.vscode/kata-05.ipynb#ch0000002?line=1'>2</a>\u001b[0m second_planet \u001b[39m=\u001b[39m \u001b[39minput\u001b[39m (\u001b[39m'\u001b[39m\u001b[39m778547200\u001b[39m\u001b[39m'\u001b[39m)\n\u001b[1;32m----> <a href='vscode-notebook-cell:/c%3A/Users/diana/.vscode/kata-05.ipynb#ch0000002?line=2'>3</a>\u001b[0m first_planet \u001b[39m=\u001b[39m \u001b[39mint\u001b[39;49m (first_planet)\n\u001b[0;32m      <a href='vscode-notebook-cell:/c%3A/Users/diana/.vscode/kata-05.ipynb#ch0000002?line=3'>4</a>\u001b[0m second_planet \u001b[39m=\u001b[39m \u001b[39mint\u001b[39m (second_planet)\n\u001b[0;32m      <a href='vscode-notebook-cell:/c%3A/Users/diana/.vscode/kata-05.ipynb#ch0000002?line=4'>5</a>\u001b[0m distance_km \u001b[39m=\u001b[39m second_planet \u001b[39m-\u001b[39m first_planet\n",
      "\u001b[1;31mValueError\u001b[0m: invalid literal for int() with base 10: ''"
     ]
    }
   ],
   "source": [
    "first_planet = input ('149597870')\n",
    "second_planet = input ('778547200')\n",
    "first_planet = int (first_planet)\n",
    "second_planet = int (second_planet)\n",
    "distance_km = second_planet - first_planet\n",
    "print(distance_km)\n",
    "distance_mi = distance_km * 0.621\n",
    "print(abs(distance_mi)) "
   ]
  }
 ],
 "metadata": {
  "interpreter": {
   "hash": "3884c4fde4525a441d9193ce18d64729e65646cefc6cf170c995ed416e7759a9"
  },
  "kernelspec": {
   "display_name": "Python 3.10.2 64-bit",
   "language": "python",
   "name": "python3"
  },
  "language_info": {
   "codemirror_mode": {
    "name": "ipython",
    "version": 3
   },
   "file_extension": ".py",
   "mimetype": "text/x-python",
   "name": "python",
   "nbconvert_exporter": "python",
   "pygments_lexer": "ipython3",
   "version": "3.10.2"
  },
  "orig_nbformat": 4
 },
 "nbformat": 4,
 "nbformat_minor": 2
}
