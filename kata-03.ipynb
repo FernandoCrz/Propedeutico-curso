{
 "cells": [
  {
   "cell_type": "code",
   "execution_count": 1,
   "metadata": {},
   "outputs": [
    {
     "name": "stdout",
     "output_type": "stream",
     "text": [
      "¡advertencia de asteroide!\n"
     ]
    }
   ],
   "source": [
    "# Añadir el código necesario para crear una variable que guarde la velocidad del asteroide.\n",
    "# Escribe una expresión de prueba para calcular si necesita una advertencia.\n",
    "# Agregue las instrucciones que se ejecutarán si la expresión de prueba es true o false.\n",
    "asteroide=49\n",
    "if asteroide>25:\n",
    "   print('¡advertencia de asteroide!')"
   ]
  },
  {
   "cell_type": "code",
   "execution_count": 2,
   "metadata": {},
   "outputs": [
    {
     "name": "stdout",
     "output_type": "stream",
     "text": [
      "¡cielo despejado!\n"
     ]
    }
   ],
   "source": [
    "# Agrega el código para crear una variable para un asteroide que viaja a 19 km/s\n",
    "# Escribe varias expresiones de prueba para determinar si puedes ver el rayo de luz desde la tierra\n",
    "# Agrega las instrucciones que se ejecutarán si las expresiones de prueba son True o False\n",
    "asteroide=19\n",
    "if asteroide>20:\n",
    "    print ('¡asteroide en el cielo!')\n",
    "elif asteroide ==20:\n",
    "    print('!asteroide en el cielo¡')\n",
    "else:\n",
    "    print('¡cielo despejado!')\n",
    "\n",
    "   "
   ]
  },
  {
   "cell_type": "code",
   "execution_count": 3,
   "metadata": {},
   "outputs": [
    {
     "name": "stdout",
     "output_type": "stream",
     "text": [
      "!cielo despejado¡\n"
     ]
    }
   ],
   "source": [
    "# Agrega el código para crear nuevas variables para la velocidad y el tamaño del asteroide\n",
    "# Para probar el código, prueba con varias velocidades y tamaños\n",
    "# Escribe varias expresiones de prueba o combinaciones de expresiones de prueba para determinar qué mensaje se debe enviar a Tierra.\n",
    "velocidad_asteroide=25\n",
    "tamaño_asteoide=25\n",
    "if velocidad_asteroide and velocidad_asteroide>25:\n",
    "    print('!alerta, asteroide en camino¡')\n",
    "elif velocidad_asteroide ==20:\n",
    "    print('!cielo despejado¡')\n",
    "else:\n",
    "    print('!cielo despejado¡')"
   ]
  }
 ],
 "metadata": {
  "interpreter": {
   "hash": "3884c4fde4525a441d9193ce18d64729e65646cefc6cf170c995ed416e7759a9"
  },
  "kernelspec": {
   "display_name": "Python 3.10.2 64-bit",
   "language": "python",
   "name": "python3"
  },
  "language_info": {
   "codemirror_mode": {
    "name": "ipython",
    "version": 3
   },
   "file_extension": ".py",
   "mimetype": "text/x-python",
   "name": "python",
   "nbconvert_exporter": "python",
   "pygments_lexer": "ipython3",
   "version": "3.10.2"
  },
  "orig_nbformat": 4
 },
 "nbformat": 4,
 "nbformat_minor": 2
}
