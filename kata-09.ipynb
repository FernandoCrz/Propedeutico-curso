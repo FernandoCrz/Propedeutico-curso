{
 "cells": [
  {
   "cell_type": "code",
   "execution_count": 9,
   "metadata": {},
   "outputs": [
    {
     "name": "stdout",
     "output_type": "stream",
     "text": [
      "Fuel Report:\n",
      "    combustible total: 61.333333333333336100%\n",
      "    tanque_1: 65%\n",
      "    tanque_2: 45%\n",
      "    tanque_3: 74%\n",
      "    \n"
     ]
    }
   ],
   "source": [
    "def generar_reporte(tanque_1, tanque_2, tanque_3):\n",
    "    promeio_total = (tanque_1 + tanque_2 + tanque_3) / 3\n",
    "    return f\"\"\"Fuel Report:\n",
    "    combustible total: {promeio_total}100%\n",
    "    tanque_1: {tanque_1}70%\n",
    "    tanque_2: {tanque_2}85%\n",
    "    tanque_3: {tanque_3}47%\n",
    "    \"\"\"\n",
    "    print(generar_reporte(70, 85, 47))\n",
    "\n",
    "    def averege(values):\n",
    "        total = sum(values)\n",
    "        number_of_items = len(values)\n",
    "        return total / number_os_items\n",
    "        averege([45, 78, 54])\n",
    "\n",
    "def generar_reporte(tanque_1, tanque_2, tanque_3):\n",
    "    promeio_total = (tanque_1 + tanque_2 + tanque_3) / 3\n",
    "    return f\"\"\"Fuel Report:\n",
    "    combustible total: {promeio_total}100%\n",
    "    tanque_1: {tanque_1}%\n",
    "    tanque_2: {tanque_2}%\n",
    "    tanque_3: {tanque_3}%\n",
    "    \"\"\"\n",
    "print(generar_reporte(65,45,74))"
   ]
  },
  {
   "cell_type": "code",
   "execution_count": 11,
   "metadata": {},
   "outputs": [
    {
     "ename": "IndentationError",
     "evalue": "unexpected indent (3344379200.py, line 8)",
     "output_type": "error",
     "traceback": [
      "\u001b[1;36m  Input \u001b[1;32mIn [11]\u001b[1;36m\u001b[0m\n\u001b[1;33m    def bitacora_espacial(destino, *minutes *fuel_reservoirs)\u001b[0m\n\u001b[1;37m    ^\u001b[0m\n\u001b[1;31mIndentationError\u001b[0m\u001b[1;31m:\u001b[0m unexpected indent\n"
     ]
    }
   ],
   "source": [
    "def bitacora_espacial(pre_lanzamiento, tiempo_de_vuelo, destino, tanque_externo, tanque_interno):\n",
    "    return f\"\"\"Fuel Report:\n",
    "    Mision a: {destino}\n",
    "    Tiempo Total de Vuelo: {pre_lanzamiento + tiempo_de_vuelo} minutes\n",
    "    Combustible Total Restante: {tanque_externo + tanque_interno} litros\n",
    "    \"\"\"\n",
    "print(bitacora_espacial(20, 45, 'Marte', 50000, 75000))\n",
    "\n",
    "    def bitacora_espacial(destino, *minutes *fuel_reservoirs)\n",
    "    return f\"\"\"\n",
    "    Mision a: {destino}\n",
    "    Tiempo Total De Vuelo: {sum(minutes)} minutes\n",
    "    Combustible Total Restante: {sum(fuel_reservoirs.values)}\n",
    "    \"\"\"\n",
    "    print(bitacora_espacial('marte', 15, 20, 45, main=300000, ecternal=200000))\n",
    "\n",
    "    def bitacora_espacial(destino, *minutes *fuel_reservoirs)\n",
    "    main_report = f\"\"\"\n",
    "    Mision A: {destino}\n",
    "    Tiempo Total De Vuelo: {sum(minutes)} minutes\n",
    "    Combustible Total Restante: {sum(fuel_reservoirs.values)}\n",
    "    \"\"\"\n",
    "    for tank_name, gallons in fuel_reservoirs.items():\n",
    "        main_report += f\"{tanque_nombre} tank --> {'litros'} gallons left\\n\"\n",
    "    return main_report\n",
    "\n",
    "print(bitacora_espacial(20, 45, 'Marte', 50000, 75000))    "
   ]
  }
 ],
 "metadata": {
  "interpreter": {
   "hash": "3884c4fde4525a441d9193ce18d64729e65646cefc6cf170c995ed416e7759a9"
  },
  "kernelspec": {
   "display_name": "Python 3.10.2 64-bit",
   "language": "python",
   "name": "python3"
  },
  "language_info": {
   "codemirror_mode": {
    "name": "ipython",
    "version": 3
   },
   "file_extension": ".py",
   "mimetype": "text/x-python",
   "name": "python",
   "nbconvert_exporter": "python",
   "pygments_lexer": "ipython3",
   "version": "3.10.2"
  },
  "orig_nbformat": 4
 },
 "nbformat": 4,
 "nbformat_minor": 2
}
